{
 "cells": [
  {
   "cell_type": "markdown",
   "id": "fdcbb219",
   "metadata": {},
   "source": [
    "## LINEAR REGRESSION - HR Analytics\n",
    "---"
   ]
  },
  {
   "cell_type": "markdown",
   "id": "78395c13",
   "metadata": {},
   "source": [
    "### Assumptions made during Linear Regression Analysis-\n",
    "\n",
    "####     1)Linearity                 : The relationship between x & the mean of y is Linear.\n",
    "####     2)Homoscedasticity : Constant Variance.\n",
    "####     3)Independence        : Observations must independent to each other\n",
    "####    4)Normality                 : For any fixed value of x & y is Normally Distributed "
   ]
  },
  {
   "cell_type": "code",
   "execution_count": 1,
   "id": "a0087da4",
   "metadata": {},
   "outputs": [],
   "source": [
    "import numpy as np\n",
    "import matplotlib.pyplot as plt\n",
    "import pandas as pd"
   ]
  },
  {
   "cell_type": "code",
   "execution_count": 4,
   "id": "4876e202",
   "metadata": {
    "scrolled": true
   },
   "outputs": [
    {
     "data": {
      "text/html": [
       "<div>\n",
       "<style scoped>\n",
       "    .dataframe tbody tr th:only-of-type {\n",
       "        vertical-align: middle;\n",
       "    }\n",
       "\n",
       "    .dataframe tbody tr th {\n",
       "        vertical-align: top;\n",
       "    }\n",
       "\n",
       "    .dataframe thead th {\n",
       "        text-align: right;\n",
       "    }\n",
       "</style>\n",
       "<table border=\"1\" class=\"dataframe\">\n",
       "  <thead>\n",
       "    <tr style=\"text-align: right;\">\n",
       "      <th></th>\n",
       "      <th>CTCoffered</th>\n",
       "      <th>LastCTC</th>\n",
       "      <th>Interview rating</th>\n",
       "      <th>Skill Set Index</th>\n",
       "      <th>Highest qualification</th>\n",
       "      <th>Total years of work exp</th>\n",
       "    </tr>\n",
       "  </thead>\n",
       "  <tbody>\n",
       "    <tr>\n",
       "      <th>0</th>\n",
       "      <td>19</td>\n",
       "      <td>18</td>\n",
       "      <td>4</td>\n",
       "      <td>3</td>\n",
       "      <td>3</td>\n",
       "      <td>8.5</td>\n",
       "    </tr>\n",
       "    <tr>\n",
       "      <th>1</th>\n",
       "      <td>17</td>\n",
       "      <td>16</td>\n",
       "      <td>4</td>\n",
       "      <td>3</td>\n",
       "      <td>3</td>\n",
       "      <td>7.7</td>\n",
       "    </tr>\n",
       "    <tr>\n",
       "      <th>2</th>\n",
       "      <td>17</td>\n",
       "      <td>16</td>\n",
       "      <td>4</td>\n",
       "      <td>3</td>\n",
       "      <td>3</td>\n",
       "      <td>7.9</td>\n",
       "    </tr>\n",
       "    <tr>\n",
       "      <th>3</th>\n",
       "      <td>9</td>\n",
       "      <td>8</td>\n",
       "      <td>3</td>\n",
       "      <td>1</td>\n",
       "      <td>2</td>\n",
       "      <td>2.7</td>\n",
       "    </tr>\n",
       "    <tr>\n",
       "      <th>4</th>\n",
       "      <td>10</td>\n",
       "      <td>9</td>\n",
       "      <td>5</td>\n",
       "      <td>4</td>\n",
       "      <td>4</td>\n",
       "      <td>9.7</td>\n",
       "    </tr>\n",
       "  </tbody>\n",
       "</table>\n",
       "</div>"
      ],
      "text/plain": [
       "   CTCoffered  LastCTC  Interview rating  Skill Set Index  \\\n",
       "0          19       18                 4                3   \n",
       "1          17       16                 4                3   \n",
       "2          17       16                 4                3   \n",
       "3           9        8                 3                1   \n",
       "4          10        9                 5                4   \n",
       "\n",
       "   Highest qualification  Total years of work exp  \n",
       "0                      3                      8.5  \n",
       "1                      3                      7.7  \n",
       "2                      3                      7.9  \n",
       "3                      2                      2.7  \n",
       "4                      4                      9.7  "
      ]
     },
     "execution_count": 4,
     "metadata": {},
     "output_type": "execute_result"
    }
   ],
   "source": [
    "data= pd.read_csv(r'C:\\Users\\user\\Desktop\\skill Enable Tutorial\\Python\\CTCdata.csv')\n",
    "\n",
    "data.head()"
   ]
  },
  {
   "cell_type": "code",
   "execution_count": 6,
   "id": "e5f10eab",
   "metadata": {
    "scrolled": false
   },
   "outputs": [
    {
     "name": "stdout",
     "output_type": "stream",
     "text": [
      "<class 'pandas.core.frame.DataFrame'>\n",
      "RangeIndex: 191 entries, 0 to 190\n",
      "Data columns (total 6 columns):\n",
      " #   Column                   Non-Null Count  Dtype  \n",
      "---  ------                   --------------  -----  \n",
      " 0   CTCoffered               191 non-null    int64  \n",
      " 1   LastCTC                  191 non-null    int64  \n",
      " 2   Interview rating         191 non-null    int64  \n",
      " 3   Skill Set Index          191 non-null    int64  \n",
      " 4   Highest qualification    191 non-null    int64  \n",
      " 5   Total years of work exp  191 non-null    float64\n",
      "dtypes: float64(1), int64(5)\n",
      "memory usage: 9.1 KB\n"
     ]
    }
   ],
   "source": [
    "data.info()"
   ]
  },
  {
   "cell_type": "code",
   "execution_count": 7,
   "id": "a4c3ae22",
   "metadata": {},
   "outputs": [
    {
     "data": {
      "text/plain": [
       "CTCoffered                 0\n",
       "LastCTC                    0\n",
       "Interview rating           0\n",
       "Skill Set Index            0\n",
       "Highest qualification      0\n",
       "Total years of work exp    0\n",
       "dtype: int64"
      ]
     },
     "execution_count": 7,
     "metadata": {},
     "output_type": "execute_result"
    }
   ],
   "source": [
    "data.isnull().sum()"
   ]
  },
  {
   "cell_type": "code",
   "execution_count": 9,
   "id": "fbb455ec",
   "metadata": {},
   "outputs": [
    {
     "data": {
      "text/html": [
       "<div>\n",
       "<style scoped>\n",
       "    .dataframe tbody tr th:only-of-type {\n",
       "        vertical-align: middle;\n",
       "    }\n",
       "\n",
       "    .dataframe tbody tr th {\n",
       "        vertical-align: top;\n",
       "    }\n",
       "\n",
       "    .dataframe thead th {\n",
       "        text-align: right;\n",
       "    }\n",
       "</style>\n",
       "<table border=\"1\" class=\"dataframe\">\n",
       "  <thead>\n",
       "    <tr style=\"text-align: right;\">\n",
       "      <th></th>\n",
       "      <th>CTCoffered</th>\n",
       "      <th>LastCTC</th>\n",
       "    </tr>\n",
       "  </thead>\n",
       "  <tbody>\n",
       "    <tr>\n",
       "      <th>0</th>\n",
       "      <td>19</td>\n",
       "      <td>18</td>\n",
       "    </tr>\n",
       "    <tr>\n",
       "      <th>1</th>\n",
       "      <td>17</td>\n",
       "      <td>16</td>\n",
       "    </tr>\n",
       "    <tr>\n",
       "      <th>2</th>\n",
       "      <td>17</td>\n",
       "      <td>16</td>\n",
       "    </tr>\n",
       "    <tr>\n",
       "      <th>3</th>\n",
       "      <td>9</td>\n",
       "      <td>8</td>\n",
       "    </tr>\n",
       "    <tr>\n",
       "      <th>4</th>\n",
       "      <td>10</td>\n",
       "      <td>9</td>\n",
       "    </tr>\n",
       "  </tbody>\n",
       "</table>\n",
       "</div>"
      ],
      "text/plain": [
       "   CTCoffered  LastCTC\n",
       "0          19       18\n",
       "1          17       16\n",
       "2          17       16\n",
       "3           9        8\n",
       "4          10        9"
      ]
     },
     "execution_count": 9,
     "metadata": {},
     "output_type": "execute_result"
    }
   ],
   "source": [
    "df= data[['CTCoffered','LastCTC']]\n",
    "df.head()"
   ]
  },
  {
   "cell_type": "code",
   "execution_count": 10,
   "id": "ce23899b",
   "metadata": {},
   "outputs": [],
   "source": [
    "# Identifying independent and dependent variable\n",
    "x = df[['LastCTC']]    # Independent varibale\n",
    "y = df[['CTCoffered']] # dependent variable"
   ]
  },
  {
   "cell_type": "code",
   "execution_count": 12,
   "id": "fb3a6e71",
   "metadata": {},
   "outputs": [
    {
     "data": {
      "text/html": [
       "<div>\n",
       "<style scoped>\n",
       "    .dataframe tbody tr th:only-of-type {\n",
       "        vertical-align: middle;\n",
       "    }\n",
       "\n",
       "    .dataframe tbody tr th {\n",
       "        vertical-align: top;\n",
       "    }\n",
       "\n",
       "    .dataframe thead th {\n",
       "        text-align: right;\n",
       "    }\n",
       "</style>\n",
       "<table border=\"1\" class=\"dataframe\">\n",
       "  <thead>\n",
       "    <tr style=\"text-align: right;\">\n",
       "      <th></th>\n",
       "      <th>LastCTC</th>\n",
       "    </tr>\n",
       "  </thead>\n",
       "  <tbody>\n",
       "    <tr>\n",
       "      <th>0</th>\n",
       "      <td>18</td>\n",
       "    </tr>\n",
       "    <tr>\n",
       "      <th>1</th>\n",
       "      <td>16</td>\n",
       "    </tr>\n",
       "    <tr>\n",
       "      <th>2</th>\n",
       "      <td>16</td>\n",
       "    </tr>\n",
       "    <tr>\n",
       "      <th>3</th>\n",
       "      <td>8</td>\n",
       "    </tr>\n",
       "    <tr>\n",
       "      <th>4</th>\n",
       "      <td>9</td>\n",
       "    </tr>\n",
       "  </tbody>\n",
       "</table>\n",
       "</div>"
      ],
      "text/plain": [
       "   LastCTC\n",
       "0       18\n",
       "1       16\n",
       "2       16\n",
       "3        8\n",
       "4        9"
      ]
     },
     "execution_count": 12,
     "metadata": {},
     "output_type": "execute_result"
    }
   ],
   "source": [
    "x.head()"
   ]
  },
  {
   "cell_type": "code",
   "execution_count": 13,
   "id": "1a41e20b",
   "metadata": {},
   "outputs": [
    {
     "data": {
      "text/html": [
       "<div>\n",
       "<style scoped>\n",
       "    .dataframe tbody tr th:only-of-type {\n",
       "        vertical-align: middle;\n",
       "    }\n",
       "\n",
       "    .dataframe tbody tr th {\n",
       "        vertical-align: top;\n",
       "    }\n",
       "\n",
       "    .dataframe thead th {\n",
       "        text-align: right;\n",
       "    }\n",
       "</style>\n",
       "<table border=\"1\" class=\"dataframe\">\n",
       "  <thead>\n",
       "    <tr style=\"text-align: right;\">\n",
       "      <th></th>\n",
       "      <th>CTCoffered</th>\n",
       "    </tr>\n",
       "  </thead>\n",
       "  <tbody>\n",
       "    <tr>\n",
       "      <th>0</th>\n",
       "      <td>19</td>\n",
       "    </tr>\n",
       "    <tr>\n",
       "      <th>1</th>\n",
       "      <td>17</td>\n",
       "    </tr>\n",
       "    <tr>\n",
       "      <th>2</th>\n",
       "      <td>17</td>\n",
       "    </tr>\n",
       "    <tr>\n",
       "      <th>3</th>\n",
       "      <td>9</td>\n",
       "    </tr>\n",
       "    <tr>\n",
       "      <th>4</th>\n",
       "      <td>10</td>\n",
       "    </tr>\n",
       "  </tbody>\n",
       "</table>\n",
       "</div>"
      ],
      "text/plain": [
       "   CTCoffered\n",
       "0          19\n",
       "1          17\n",
       "2          17\n",
       "3           9\n",
       "4          10"
      ]
     },
     "execution_count": 13,
     "metadata": {},
     "output_type": "execute_result"
    }
   ],
   "source": [
    "y.head()"
   ]
  },
  {
   "cell_type": "markdown",
   "id": "f693d082",
   "metadata": {},
   "source": [
    "## Splitting the data for traning and testing"
   ]
  },
  {
   "cell_type": "code",
   "execution_count": 14,
   "id": "79c5373a",
   "metadata": {},
   "outputs": [],
   "source": [
    "from sklearn.model_selection import train_test_split"
   ]
  },
  {
   "cell_type": "code",
   "execution_count": 16,
   "id": "b00904bb",
   "metadata": {},
   "outputs": [],
   "source": [
    "x_train,x_test,y_train,y_test = train_test_split(x,y,train_size =0.8,random_state=42)\n",
    "# Make sure train size should be more(>80%) for better results"
   ]
  },
  {
   "cell_type": "code",
   "execution_count": 17,
   "id": "0d6003f9",
   "metadata": {},
   "outputs": [
    {
     "data": {
      "text/plain": [
       "(152, 39, 152, 39)"
      ]
     },
     "execution_count": 17,
     "metadata": {},
     "output_type": "execute_result"
    }
   ],
   "source": [
    "len(x_train),len(x_test),len(y_train),len(y_test)"
   ]
  },
  {
   "cell_type": "markdown",
   "id": "b08fcb63",
   "metadata": {},
   "source": [
    "## Model Building "
   ]
  },
  {
   "cell_type": "code",
   "execution_count": 20,
   "id": "892ae13b",
   "metadata": {},
   "outputs": [],
   "source": [
    "from sklearn.linear_model import LinearRegression\n",
    "lr=LinearRegression()\n",
    "model=lr.fit(x_train,y_train)"
   ]
  },
  {
   "cell_type": "code",
   "execution_count": 21,
   "id": "3b53a65c",
   "metadata": {},
   "outputs": [
    {
     "data": {
      "text/plain": [
       "array([[0.9401281]])"
      ]
     },
     "execution_count": 21,
     "metadata": {},
     "output_type": "execute_result"
    }
   ],
   "source": [
    "model.coef_   ### Slope(m)"
   ]
  },
  {
   "cell_type": "code",
   "execution_count": 22,
   "id": "6b0e2fc7",
   "metadata": {},
   "outputs": [
    {
     "data": {
      "text/plain": [
       "array([1.80548038])"
      ]
     },
     "execution_count": 22,
     "metadata": {},
     "output_type": "execute_result"
    }
   ],
   "source": [
    "model.intercept_  ### Intercept(c)"
   ]
  },
  {
   "cell_type": "code",
   "execution_count": 23,
   "id": "e8c05cb8",
   "metadata": {},
   "outputs": [
    {
     "data": {
      "text/plain": [
       "0.9709568208423041"
      ]
     },
     "execution_count": 23,
     "metadata": {},
     "output_type": "execute_result"
    }
   ],
   "source": [
    "model.score(x_train,y_train) ### R2 Which tells the how much % model has been able to learn."
   ]
  },
  {
   "cell_type": "code",
   "execution_count": 24,
   "id": "be5cd429",
   "metadata": {},
   "outputs": [
    {
     "data": {
      "text/html": [
       "<div>\n",
       "<style scoped>\n",
       "    .dataframe tbody tr th:only-of-type {\n",
       "        vertical-align: middle;\n",
       "    }\n",
       "\n",
       "    .dataframe tbody tr th {\n",
       "        vertical-align: top;\n",
       "    }\n",
       "\n",
       "    .dataframe thead th {\n",
       "        text-align: right;\n",
       "    }\n",
       "</style>\n",
       "<table border=\"1\" class=\"dataframe\">\n",
       "  <thead>\n",
       "    <tr style=\"text-align: right;\">\n",
       "      <th></th>\n",
       "      <th>CTCoffered</th>\n",
       "    </tr>\n",
       "  </thead>\n",
       "  <tbody>\n",
       "    <tr>\n",
       "      <th>152</th>\n",
       "      <td>18</td>\n",
       "    </tr>\n",
       "    <tr>\n",
       "      <th>75</th>\n",
       "      <td>21</td>\n",
       "    </tr>\n",
       "    <tr>\n",
       "      <th>158</th>\n",
       "      <td>8</td>\n",
       "    </tr>\n",
       "    <tr>\n",
       "      <th>66</th>\n",
       "      <td>17</td>\n",
       "    </tr>\n",
       "    <tr>\n",
       "      <th>60</th>\n",
       "      <td>17</td>\n",
       "    </tr>\n",
       "  </tbody>\n",
       "</table>\n",
       "</div>"
      ],
      "text/plain": [
       "     CTCoffered\n",
       "152          18\n",
       "75           21\n",
       "158           8\n",
       "66           17\n",
       "60           17"
      ]
     },
     "execution_count": 24,
     "metadata": {},
     "output_type": "execute_result"
    }
   ],
   "source": [
    "y_test.head()\n"
   ]
  },
  {
   "cell_type": "markdown",
   "id": "50b85110",
   "metadata": {},
   "source": [
    "### prediction by using test data"
   ]
  },
  {
   "cell_type": "code",
   "execution_count": 25,
   "id": "8fd2141f",
   "metadata": {},
   "outputs": [],
   "source": [
    "y_test['Predicted CTC'] = model.predict(x_test)"
   ]
  },
  {
   "cell_type": "code",
   "execution_count": 26,
   "id": "99d22b5c",
   "metadata": {
    "scrolled": true
   },
   "outputs": [
    {
     "data": {
      "text/html": [
       "<div>\n",
       "<style scoped>\n",
       "    .dataframe tbody tr th:only-of-type {\n",
       "        vertical-align: middle;\n",
       "    }\n",
       "\n",
       "    .dataframe tbody tr th {\n",
       "        vertical-align: top;\n",
       "    }\n",
       "\n",
       "    .dataframe thead th {\n",
       "        text-align: right;\n",
       "    }\n",
       "</style>\n",
       "<table border=\"1\" class=\"dataframe\">\n",
       "  <thead>\n",
       "    <tr style=\"text-align: right;\">\n",
       "      <th></th>\n",
       "      <th>CTCoffered</th>\n",
       "      <th>Predicted CTC</th>\n",
       "    </tr>\n",
       "  </thead>\n",
       "  <tbody>\n",
       "    <tr>\n",
       "      <th>152</th>\n",
       "      <td>18</td>\n",
       "      <td>17.787658</td>\n",
       "    </tr>\n",
       "    <tr>\n",
       "      <th>75</th>\n",
       "      <td>21</td>\n",
       "      <td>20.608042</td>\n",
       "    </tr>\n",
       "    <tr>\n",
       "      <th>158</th>\n",
       "      <td>8</td>\n",
       "      <td>7.446249</td>\n",
       "    </tr>\n",
       "    <tr>\n",
       "      <th>66</th>\n",
       "      <td>17</td>\n",
       "      <td>16.847530</td>\n",
       "    </tr>\n",
       "    <tr>\n",
       "      <th>60</th>\n",
       "      <td>17</td>\n",
       "      <td>16.847530</td>\n",
       "    </tr>\n",
       "  </tbody>\n",
       "</table>\n",
       "</div>"
      ],
      "text/plain": [
       "     CTCoffered  Predicted CTC\n",
       "152          18      17.787658\n",
       "75           21      20.608042\n",
       "158           8       7.446249\n",
       "66           17      16.847530\n",
       "60           17      16.847530"
      ]
     },
     "execution_count": 26,
     "metadata": {},
     "output_type": "execute_result"
    }
   ],
   "source": [
    "y_test.head()"
   ]
  },
  {
   "cell_type": "markdown",
   "id": "a3e29fbf",
   "metadata": {},
   "source": [
    "### Evaluating The Model by Finding out the RMSE"
   ]
  },
  {
   "cell_type": "code",
   "execution_count": 27,
   "id": "dc725126",
   "metadata": {},
   "outputs": [],
   "source": [
    "y_test['Error']=y_test['CTCoffered']- y_test['Predicted CTC']"
   ]
  },
  {
   "cell_type": "code",
   "execution_count": 28,
   "id": "6d4b7c7b",
   "metadata": {},
   "outputs": [
    {
     "data": {
      "text/html": [
       "<div>\n",
       "<style scoped>\n",
       "    .dataframe tbody tr th:only-of-type {\n",
       "        vertical-align: middle;\n",
       "    }\n",
       "\n",
       "    .dataframe tbody tr th {\n",
       "        vertical-align: top;\n",
       "    }\n",
       "\n",
       "    .dataframe thead th {\n",
       "        text-align: right;\n",
       "    }\n",
       "</style>\n",
       "<table border=\"1\" class=\"dataframe\">\n",
       "  <thead>\n",
       "    <tr style=\"text-align: right;\">\n",
       "      <th></th>\n",
       "      <th>CTCoffered</th>\n",
       "      <th>Predicted CTC</th>\n",
       "      <th>Error</th>\n",
       "    </tr>\n",
       "  </thead>\n",
       "  <tbody>\n",
       "    <tr>\n",
       "      <th>152</th>\n",
       "      <td>18</td>\n",
       "      <td>17.787658</td>\n",
       "      <td>0.212342</td>\n",
       "    </tr>\n",
       "    <tr>\n",
       "      <th>75</th>\n",
       "      <td>21</td>\n",
       "      <td>20.608042</td>\n",
       "      <td>0.391958</td>\n",
       "    </tr>\n",
       "    <tr>\n",
       "      <th>158</th>\n",
       "      <td>8</td>\n",
       "      <td>7.446249</td>\n",
       "      <td>0.553751</td>\n",
       "    </tr>\n",
       "    <tr>\n",
       "      <th>66</th>\n",
       "      <td>17</td>\n",
       "      <td>16.847530</td>\n",
       "      <td>0.152470</td>\n",
       "    </tr>\n",
       "    <tr>\n",
       "      <th>60</th>\n",
       "      <td>17</td>\n",
       "      <td>16.847530</td>\n",
       "      <td>0.152470</td>\n",
       "    </tr>\n",
       "  </tbody>\n",
       "</table>\n",
       "</div>"
      ],
      "text/plain": [
       "     CTCoffered  Predicted CTC     Error\n",
       "152          18      17.787658  0.212342\n",
       "75           21      20.608042  0.391958\n",
       "158           8       7.446249  0.553751\n",
       "66           17      16.847530  0.152470\n",
       "60           17      16.847530  0.152470"
      ]
     },
     "execution_count": 28,
     "metadata": {},
     "output_type": "execute_result"
    }
   ],
   "source": [
    "y_test.head()"
   ]
  },
  {
   "cell_type": "code",
   "execution_count": 29,
   "id": "80e89f38",
   "metadata": {},
   "outputs": [],
   "source": [
    "y_test['Squared_Error']= y_test['Error']**2"
   ]
  },
  {
   "cell_type": "code",
   "execution_count": 30,
   "id": "422a5b9b",
   "metadata": {},
   "outputs": [
    {
     "data": {
      "text/html": [
       "<div>\n",
       "<style scoped>\n",
       "    .dataframe tbody tr th:only-of-type {\n",
       "        vertical-align: middle;\n",
       "    }\n",
       "\n",
       "    .dataframe tbody tr th {\n",
       "        vertical-align: top;\n",
       "    }\n",
       "\n",
       "    .dataframe thead th {\n",
       "        text-align: right;\n",
       "    }\n",
       "</style>\n",
       "<table border=\"1\" class=\"dataframe\">\n",
       "  <thead>\n",
       "    <tr style=\"text-align: right;\">\n",
       "      <th></th>\n",
       "      <th>CTCoffered</th>\n",
       "      <th>Predicted CTC</th>\n",
       "      <th>Error</th>\n",
       "      <th>Squared_Error</th>\n",
       "    </tr>\n",
       "  </thead>\n",
       "  <tbody>\n",
       "    <tr>\n",
       "      <th>152</th>\n",
       "      <td>18</td>\n",
       "      <td>17.787658</td>\n",
       "      <td>0.212342</td>\n",
       "      <td>0.045089</td>\n",
       "    </tr>\n",
       "    <tr>\n",
       "      <th>75</th>\n",
       "      <td>21</td>\n",
       "      <td>20.608042</td>\n",
       "      <td>0.391958</td>\n",
       "      <td>0.153631</td>\n",
       "    </tr>\n",
       "    <tr>\n",
       "      <th>158</th>\n",
       "      <td>8</td>\n",
       "      <td>7.446249</td>\n",
       "      <td>0.553751</td>\n",
       "      <td>0.306640</td>\n",
       "    </tr>\n",
       "    <tr>\n",
       "      <th>66</th>\n",
       "      <td>17</td>\n",
       "      <td>16.847530</td>\n",
       "      <td>0.152470</td>\n",
       "      <td>0.023247</td>\n",
       "    </tr>\n",
       "    <tr>\n",
       "      <th>60</th>\n",
       "      <td>17</td>\n",
       "      <td>16.847530</td>\n",
       "      <td>0.152470</td>\n",
       "      <td>0.023247</td>\n",
       "    </tr>\n",
       "  </tbody>\n",
       "</table>\n",
       "</div>"
      ],
      "text/plain": [
       "     CTCoffered  Predicted CTC     Error  Squared_Error\n",
       "152          18      17.787658  0.212342       0.045089\n",
       "75           21      20.608042  0.391958       0.153631\n",
       "158           8       7.446249  0.553751       0.306640\n",
       "66           17      16.847530  0.152470       0.023247\n",
       "60           17      16.847530  0.152470       0.023247"
      ]
     },
     "execution_count": 30,
     "metadata": {},
     "output_type": "execute_result"
    }
   ],
   "source": [
    "y_test.head()"
   ]
  },
  {
   "cell_type": "code",
   "execution_count": 31,
   "id": "7da254f8",
   "metadata": {},
   "outputs": [],
   "source": [
    "mse=y_test['Squared_Error'].mean()"
   ]
  },
  {
   "cell_type": "code",
   "execution_count": 32,
   "id": "2f17342d",
   "metadata": {},
   "outputs": [
    {
     "data": {
      "text/plain": [
       "0.5104422481086017"
      ]
     },
     "execution_count": 32,
     "metadata": {},
     "output_type": "execute_result"
    }
   ],
   "source": [
    "mse    ### Mean Squared Error"
   ]
  },
  {
   "cell_type": "code",
   "execution_count": 33,
   "id": "b5149d62",
   "metadata": {},
   "outputs": [],
   "source": [
    "from math import sqrt\n",
    "rmse =sqrt(mse)"
   ]
  },
  {
   "cell_type": "code",
   "execution_count": 34,
   "id": "c233caf9",
   "metadata": {},
   "outputs": [
    {
     "data": {
      "text/plain": [
       "0.7144524113673364"
      ]
     },
     "execution_count": 34,
     "metadata": {},
     "output_type": "execute_result"
    }
   ],
   "source": [
    "rmse  ### Root Mean Squared Error"
   ]
  },
  {
   "cell_type": "code",
   "execution_count": 35,
   "id": "30f3f95c",
   "metadata": {},
   "outputs": [
    {
     "name": "stderr",
     "output_type": "stream",
     "text": [
      "C:\\Users\\user\\anaconda3\\lib\\site-packages\\sklearn\\base.py:450: UserWarning: X does not have valid feature names, but LinearRegression was fitted with feature names\n",
      "  warnings.warn(\n"
     ]
    }
   ],
   "source": [
    "predicted_sal=model.predict([[14]])"
   ]
  },
  {
   "cell_type": "code",
   "execution_count": 36,
   "id": "6a771c08",
   "metadata": {},
   "outputs": [
    {
     "data": {
      "text/plain": [
       "array([[14.96727382]])"
      ]
     },
     "execution_count": 36,
     "metadata": {},
     "output_type": "execute_result"
    }
   ],
   "source": [
    "predicted_sal   "
   ]
  },
  {
   "cell_type": "code",
   "execution_count": 37,
   "id": "5e8c69ba",
   "metadata": {},
   "outputs": [],
   "source": [
    "upperband = predicted_sal+rmse\n",
    "lowerband = predicted_sal-rmse"
   ]
  },
  {
   "cell_type": "code",
   "execution_count": 38,
   "id": "3b527908",
   "metadata": {},
   "outputs": [
    {
     "data": {
      "text/plain": [
       "array([[15.68172623]])"
      ]
     },
     "execution_count": 38,
     "metadata": {},
     "output_type": "execute_result"
    }
   ],
   "source": [
    "upperband\n"
   ]
  },
  {
   "cell_type": "code",
   "execution_count": 39,
   "id": "5e845674",
   "metadata": {},
   "outputs": [
    {
     "data": {
      "text/plain": [
       "array([[14.25282141]])"
      ]
     },
     "execution_count": 39,
     "metadata": {},
     "output_type": "execute_result"
    }
   ],
   "source": [
    "lowerband"
   ]
  },
  {
   "cell_type": "markdown",
   "id": "e6ac54bb",
   "metadata": {},
   "source": [
    "### For 14 Lac CTC The range of CTC that can offered to the candidate is 14.25 - 15.681 Lac"
   ]
  }
 ],
 "metadata": {
  "kernelspec": {
   "display_name": "Python 3 (ipykernel)",
   "language": "python",
   "name": "python3"
  },
  "language_info": {
   "codemirror_mode": {
    "name": "ipython",
    "version": 3
   },
   "file_extension": ".py",
   "mimetype": "text/x-python",
   "name": "python",
   "nbconvert_exporter": "python",
   "pygments_lexer": "ipython3",
   "version": "3.9.7"
  }
 },
 "nbformat": 4,
 "nbformat_minor": 5
}
